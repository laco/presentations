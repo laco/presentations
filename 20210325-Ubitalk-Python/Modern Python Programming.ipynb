{
 "cells": [
  {
   "cell_type": "markdown",
   "id": "indonesian-subscription",
   "metadata": {
    "slideshow": {
     "slide_type": "slide"
    }
   },
   "source": [
    "# Welcome!\n",
    "## Modern Python Programming\n",
    "### Laszlo Andrasi \n",
    "#### CTO @ Gitential"
   ]
  },
  {
   "cell_type": "code",
   "execution_count": 1,
   "id": "thousand-helena",
   "metadata": {
    "slideshow": {
     "slide_type": "subslide"
    }
   },
   "outputs": [
    {
     "name": "stdout",
     "output_type": "stream",
     "text": [
      "Goooood Afternoon !!!\n"
     ]
    }
   ],
   "source": [
    "from datetime import datetime\n",
    "\n",
    "def welcome_time():\n",
    "    now = datetime.now()\n",
    "    if now.hour > 6 and now.hour < 12:\n",
    "        return \"Morning\"\n",
    "    elif now.hour >=12 and now.hour < 18:\n",
    "        return \"Afternoon\"\n",
    "    elif now.hour >= 18 and now.hour < 24:\n",
    "        return \"Evening\"\n",
    "    else:\n",
    "        raise NotImplemented(\"You can watch this later...\")\n",
    "\n",
    "w = welcome_time()\n",
    "        \n",
    "print(f\"Goooood {w} !!!\")\n",
    "\n"
   ]
  },
  {
   "cell_type": "code",
   "execution_count": 2,
   "id": "consolidated-steal",
   "metadata": {
    "slideshow": {
     "slide_type": "subslide"
    }
   },
   "outputs": [],
   "source": [
    "from typing import List\n",
    "from enum import Enum\n",
    "from pydantic import BaseModel\n",
    "\n",
    "class Topic(str, Enum):\n",
    "    about_me = \"About Me\"\n",
    "    about_gitential = \"About Gitential\"\n",
    "    \n",
    "    f_strings = \"f-strings\"\n",
    "    context_managers = \"Context Managers\"\n",
    "    value_unpacking = \"Value Unpacking\"\n",
    "    type_annotations = \"Type Annotations\"\n",
    "\n",
    "    missing_fp_features = \"Missing functional programming features\"\n",
    "    datetime_naive_objects = \"Datetime: Aware and Naive Objects\"\n",
    "    self = \"Give your'self' a break.\"\n",
    "    \n",
    "    tools = \"The tools we use\"\n",
    "    libs = \"Recommended Python libraries\"\n",
    "    \n",
    "    \n",
    "class Section(BaseModel):\n",
    "    name: str\n",
    "    topics: List[Topic]\n",
    "\n",
    "Talk = List[Section]"
   ]
  },
  {
   "cell_type": "code",
   "execution_count": null,
   "id": "urban-cancellation",
   "metadata": {
    "slideshow": {
     "slide_type": "notes"
    }
   },
   "outputs": [],
   "source": []
  },
  {
   "cell_type": "code",
   "execution_count": 3,
   "id": "agreed-introduction",
   "metadata": {
    "slideshow": {
     "slide_type": "subslide"
    }
   },
   "outputs": [],
   "source": [
    "my_talk = [\n",
    "    Section(name=\"Introduction\", topics=[Topic.about_me, Topic.about_gitential]),\n",
    "    Section(name=\"Python3 language features I like. (the good)\", topics = [\n",
    "        Topic.f_strings,\n",
    "        Topic.context_managers,\n",
    "        Topic.value_unpacking,\n",
    "        Topic.type_annotations,\n",
    "    ]),\n",
    "    Section(name=\"Python3 the bad, and the ugly.\", topics= [\n",
    "        Topic.datetime_naive_objects,\n",
    "        Topic.missing_fp_features,\n",
    "        Topic.self,\n",
    "    ]),\n",
    "    Section(name=\"Our Python3 stack at Gitential\", topics= [\n",
    "        Topic.tools,\n",
    "        Topic.libs,\n",
    "                \n",
    "    ]),\n",
    "    Section(name=\"Q&A\", topics=[])\n",
    "]\n",
    "\n",
    "for section in my_talk:\n",
    "    for topic in section.topics:\n",
    "        ...\n",
    "    \n",
    "  "
   ]
  },
  {
   "cell_type": "markdown",
   "id": "million-bottle",
   "metadata": {
    "slideshow": {
     "slide_type": "slide"
    }
   },
   "source": [
    "###  Hi, I'm Laszlo from Hungary. \n",
    "\n",
    "* Scala, Python programmer\n",
    "* Team leader\n",
    "* CTO at Gitential\n",
    "* 1 wife, 2 children, 1 cat\n",
    "* chess, guitar, sleeping\n",
    "\n",
    "### Gitential \n",
    "\n",
    "* Gitential is a Development Analytics Platform. \n",
    "\n",
    "* We’re using data from git repositories and pull requests to give insights to dev teams. \n",
    "\n",
    "* Our mission is to bring visibility to the full development process. \n",
    "\n",
    "* Support a data-driven decision making by collecting the most relevant metrics of Software Development.\n"
   ]
  },
  {
   "cell_type": "markdown",
   "id": "adapted-decline",
   "metadata": {
    "slideshow": {
     "slide_type": "slide"
    }
   },
   "source": [
    "## f-strings"
   ]
  },
  {
   "cell_type": "code",
   "execution_count": 4,
   "id": "boring-indiana",
   "metadata": {
    "slideshow": {
     "slide_type": "subslide"
    }
   },
   "outputs": [
    {
     "name": "stdout",
     "output_type": "stream",
     "text": [
      "6 bananas cost $1.74\n",
      "6 bananas cost $1.74\n",
      "6 bananas cost $1.74\n",
      "6 bananas cost $1.74\n"
     ]
    },
    {
     "data": {
      "text/plain": [
       "'result:      12.35'"
      ]
     },
     "execution_count": 4,
     "metadata": {},
     "output_type": "execute_result"
    }
   ],
   "source": [
    "import decimal\n",
    "\n",
    "# In Python we love string formatting\n",
    "count = 6\n",
    "item = \"bananas\"\n",
    "price = 1.74\n",
    "\n",
    "print(\"%d %s cost $%.2f\" % (count, item, price))\n",
    "\n",
    "print(\"{0} {1} cost ${2}\".format(count, item, price))\n",
    "\n",
    "print(\"{count} {item} cost ${price}\".format(count=count, item=item, price=price))\n",
    "\n",
    "print(f\"{count} {item} cost ${price}\")\n",
    "\n",
    "width = 10\n",
    "precision = 4\n",
    "value = decimal.Decimal('12.34567')\n",
    "f'result: {value:{width}.{precision}}'\n",
    "\n",
    "# Recommendation: \n",
    "# Don't use f-strings if the string comes from unsafe place (customers, other api's...)\n",
    "# Don't use f-strings in log messages (I know better...)\n",
    "# Use f-strings."
   ]
  },
  {
   "cell_type": "markdown",
   "id": "interpreted-analyst",
   "metadata": {
    "slideshow": {
     "slide_type": "slide"
    }
   },
   "source": [
    "## Context managers"
   ]
  },
  {
   "cell_type": "code",
   "execution_count": 5,
   "id": "brave-forward",
   "metadata": {
    "slideshow": {
     "slide_type": "subslide"
    }
   },
   "outputs": [],
   "source": [
    "# Context Managers\n",
    "# For files, resources, http sessions, locks, ...\n",
    "# It's a great addition to the language\n",
    "\n",
    "filesize = 0\n",
    "with open(\"README.md\", 'r') as readme_file:\n",
    "    for line in readme_file:\n",
    "        filesize += len(line)"
   ]
  },
  {
   "cell_type": "markdown",
   "id": "conditional-brisbane",
   "metadata": {
    "slideshow": {
     "slide_type": "slide"
    }
   },
   "source": [
    "## Variable Unpacking"
   ]
  },
  {
   "cell_type": "code",
   "execution_count": 6,
   "id": "fifth-broadway",
   "metadata": {
    "slideshow": {
     "slide_type": "subslide"
    }
   },
   "outputs": [
    {
     "name": "stdout",
     "output_type": "stream",
     "text": [
      "x = 10, y = 20, z = 30\n"
     ]
    }
   ],
   "source": [
    "x, y, z = [10, 20, 30]\n",
    "print(f\"{x = }, {y = }, {z = }\")"
   ]
  },
  {
   "cell_type": "code",
   "execution_count": 7,
   "id": "cooperative-barrel",
   "metadata": {
    "slideshow": {
     "slide_type": "subslide"
    }
   },
   "outputs": [
    {
     "name": "stdout",
     "output_type": "stream",
     "text": [
      "first = 1\n",
      "rest = [2, 3, 4, 5, 6]\n",
      "beginning = [1, 2, 3, 4, 5]\n",
      "last = 6\n"
     ]
    }
   ],
   "source": [
    "numbers = [1, 2, 3, 4, 5, 6]\n",
    "\n",
    "first, *rest = numbers\n",
    "\n",
    "*beginning, last = numbers\n",
    "\n",
    "\n",
    "print(f\"{first = }\\n{rest = }\")\n",
    "print(f\"{beginning = }\\n{last = }\")"
   ]
  },
  {
   "cell_type": "code",
   "execution_count": 8,
   "id": "limited-constitution",
   "metadata": {
    "slideshow": {
     "slide_type": "subslide"
    }
   },
   "outputs": [
    {
     "name": "stdout",
     "output_type": "stream",
     "text": [
      "first = 1\n",
      "second = 2\n"
     ]
    }
   ],
   "source": [
    "# A convention to use the _ (underscore) variable name when we don't care about the value.\n",
    "\n",
    "first, second, *_ = numbers\n",
    "\n",
    "print(f\"{first = }\\n{second = }\")\n",
    "\n"
   ]
  },
  {
   "cell_type": "code",
   "execution_count": 9,
   "id": "initial-bowling",
   "metadata": {
    "slideshow": {
     "slide_type": "subslide"
    }
   },
   "outputs": [
    {
     "name": "stdout",
     "output_type": "stream",
     "text": [
      "first = 1\n",
      "last = 6\n"
     ]
    }
   ],
   "source": [
    "first, *_, last = numbers\n",
    "\n",
    "print(f\"{first = }\\n{last = }\")"
   ]
  },
  {
   "cell_type": "code",
   "execution_count": 10,
   "id": "ceramic-university",
   "metadata": {
    "slideshow": {
     "slide_type": "subslide"
    }
   },
   "outputs": [
    {
     "name": "stdout",
     "output_type": "stream",
     "text": [
      "Point 1,2 was negated.\n"
     ]
    }
   ],
   "source": [
    "start_points = [(1, 2), (3, 4), (5, 6)]\n",
    "end_points = [(-1, -2), (-3, 4), (-6, -5)]\n",
    "\n",
    "for start, end in zip(start_points, end_points):\n",
    "    if start[0] == -end[0] and start[1] == -end[1]:\n",
    "        print(f\"Point {start[0]},{start[1]} was negated.\")\n"
   ]
  },
  {
   "cell_type": "code",
   "execution_count": 11,
   "id": "administrative-arizona",
   "metadata": {
    "slideshow": {
     "slide_type": "subslide"
    }
   },
   "outputs": [
    {
     "name": "stdout",
     "output_type": "stream",
     "text": [
      "Point 1,2 was negated.\n"
     ]
    }
   ],
   "source": [
    "# deeper unpacking\n",
    "for (x1, y1), (x2, y2) in zip(start_points, end_points):\n",
    "    if x1 == -x2 and y1 == -y2:\n",
    "        print(f\"Point {x1},{y1} was negated.\")\n"
   ]
  },
  {
   "cell_type": "markdown",
   "id": "leading-integrity",
   "metadata": {
    "slideshow": {
     "slide_type": "slide"
    }
   },
   "source": [
    "## Type Annotations\n",
    "\n",
    "### Not just for documentation"
   ]
  },
  {
   "cell_type": "code",
   "execution_count": 12,
   "id": "robust-composition",
   "metadata": {
    "slideshow": {
     "slide_type": "notes"
    }
   },
   "outputs": [],
   "source": [
    "from abc import ABC, abstractmethod\n",
    "from pydantic import BaseModel\n",
    "from typing import Tuple, Optional\n",
    "from datetime import date\n",
    "\n",
    "class IdMixin(BaseModel):\n",
    "    id: int\n",
    "        \n",
    "class UserCommon(BaseModel):\n",
    "    name: str\n",
    "    email: str\n",
    "    birthday: Optional[date] = None\n",
    "        \n",
    "class UserCreate(UserCommon):\n",
    "    pass\n",
    "\n",
    "class UserInDB(IdMixin, UserCommon):\n",
    "    pass\n",
    "\n",
    "\n",
    "class Backend(ABC):\n",
    "    @abstractmethod\n",
    "    def get_user_by_mail(self, email: str) -> Optional[UserInDB]:\n",
    "        pass\n",
    "    \n",
    "    @abstractmethod\n",
    "    def create_user(self, user_create: UserCreate) -> UserInDB:\n",
    "        pass"
   ]
  },
  {
   "cell_type": "code",
   "execution_count": 13,
   "id": "acquired-brief",
   "metadata": {},
   "outputs": [],
   "source": [
    "# Before type annotations\n",
    "\n",
    "def register_user(data, backend, today):\n",
    "    existing_user = backend.get_user_by_email(data[\"email\"])\n",
    "    if existing_user:\n",
    "        raise ValueError(\"Email already used.\")\n",
    "    else:\n",
    "        user = backend.create_user(data)\n",
    "        if user.birthday == today:\n",
    "            welcome_message = f\"Happy Birthday, {user.name}!\"\n",
    "        else:\n",
    "            welcome_message = f\"Welcome, {user.name}!\"\n",
    "        return user, welcome_message"
   ]
  },
  {
   "cell_type": "code",
   "execution_count": 14,
   "id": "understood-vehicle",
   "metadata": {
    "slideshow": {
     "slide_type": "subslide"
    }
   },
   "outputs": [],
   "source": [
    "WelcomeMessage = str\n",
    "    \n",
    "def register_user(user_create: UserCreate, backend: Backend, today: date) -> Tuple[UserInDB, WelcomeMessage]:\n",
    "    existing_user = backend.get_user_by_email(user_create.email)\n",
    "    if existing_user:\n",
    "        raise ValueError(\"Email already used.\")\n",
    "    else:\n",
    "        user = backend.create_user(user_create)\n",
    "        if user.birthday == today:\n",
    "            welcome_message = f\"Happy Birthday, {user.name}!\"\n",
    "        else:\n",
    "            welcome_message = f\"Welcome, {user.name}!\"\n",
    "        return user, welcome_message\n",
    "    "
   ]
  },
  {
   "cell_type": "code",
   "execution_count": 15,
   "id": "square-jamaica",
   "metadata": {
    "slideshow": {
     "slide_type": "subslide"
    }
   },
   "outputs": [],
   "source": [
    "from pydantic import BaseModel\n",
    "from typing import Tuple, Optional\n",
    "from datetime import date\n",
    "\n",
    "class IdMixin(BaseModel):\n",
    "    id: int\n",
    "        \n",
    "class UserCommon(BaseModel):\n",
    "    name: str\n",
    "    email: str\n",
    "    birthday: Optional[date] = None\n",
    "        \n",
    "class UserCreate(UserCommon):\n",
    "    pass\n",
    "\n",
    "class UserInDB(IdMixin, UserCommon):\n",
    "    pass"
   ]
  },
  {
   "cell_type": "code",
   "execution_count": 16,
   "id": "engaged-sensitivity",
   "metadata": {
    "slideshow": {
     "slide_type": "subslide"
    }
   },
   "outputs": [],
   "source": [
    "from abc import ABC, abstractmethod\n",
    "from typing import Optional\n",
    "\n",
    "class Backend(ABC):\n",
    "    @abstractmethod\n",
    "    def get_user_by_mail(self, email: str) -> Optional[UserInDB]:\n",
    "        pass\n",
    "    \n",
    "    @abstractmethod\n",
    "    def create_user(self, user_create: UserCreate) -> UserInDB:\n",
    "        pass"
   ]
  },
  {
   "cell_type": "code",
   "execution_count": 17,
   "id": "aging-separation",
   "metadata": {
    "slideshow": {
     "slide_type": "subslide"
    }
   },
   "outputs": [],
   "source": [
    "# in tests/test_registration.py\n",
    "# ...\n",
    "\n",
    "class DummyBackend(Backend):\n",
    "    def get_user_by_mail(self, email: str) -> Optional[UserInDB]:\n",
    "        return None\n",
    "    def create_user(user_create: UserCreate) -> UserInDB:\n",
    "        return UserInDB(id=1, **user_create.dict())\n",
    "\n",
    "\n",
    "def test_register_if_user_has_a_birthday():\n",
    "    _, welcome_message = register_user(\n",
    "        UserCreate(name=\"Joe\", email=\"joe@example.com\", birthday=\"2021-03-25\"),\n",
    "        DummyBackend(),\n",
    "        today=date(2021, 3, 25)\n",
    "    )\n",
    "    assert \"Happy Birthday, Joe!\" == welcome_message\n",
    "\n",
    "    # Some notes...\n"
   ]
  },
  {
   "cell_type": "code",
   "execution_count": 18,
   "id": "behavioral-nicaragua",
   "metadata": {
    "slideshow": {
     "slide_type": "subslide"
    }
   },
   "outputs": [],
   "source": [
    "\n",
    "\n",
    "def register_user(user_create: UserCreate, backend: Backend, today: date) -> Tuple[UserInDB, WelcomeMessage]:\n",
    "    existing_user = backend.get_user_by_email(user_create.email)\n",
    "    if existing_user:\n",
    "        raise ValueError(\"Email already used.\")\n",
    "    else:\n",
    "        user = backend.create_user(user_create)\n",
    "        if user.birthday == today:\n",
    "            welcome_message = f\"Happy Birthday, {user.name}!\"\n",
    "        else:\n",
    "            welcome_message = f\"Welcome, {user.name}!\"\n",
    "        return user, welcome_message\n",
    "\n",
    "# ..\n",
    "# Can you test your core application logic without any real database? Cool, isn't it?!\n",
    "# (Clean Architecture, Onion Architecture...)\n",
    "# Yeah'it's Python. We have mocking also, and we can mock date.today() instead of adding a new parameter, but.."
   ]
  },
  {
   "cell_type": "markdown",
   "id": "micro-animal",
   "metadata": {
    "slideshow": {
     "slide_type": "slide"
    }
   },
   "source": [
    "## Thing's I don't like\n",
    "\n"
   ]
  },
  {
   "cell_type": "code",
   "execution_count": 19,
   "id": "certified-launch",
   "metadata": {
    "slideshow": {
     "slide_type": "subslide"
    }
   },
   "outputs": [],
   "source": [
    "# Missing tail call optimization... :(\n",
    "\n",
    "def fib_recursion(num):\n",
    "    if num < 2:\n",
    "        return num\n",
    "    return fib_recursion(num-1) + fib_recursion(num-2)\n",
    "\n",
    "def fib_tail_recursion(num, res=0, temp=1):\n",
    "    if num == 0:\n",
    "        return res\n",
    "    else:\n",
    "        return fib_tail_recursion(num-1, temp, res + temp)\n",
    "\n",
    "def fib_circle(num):\n",
    "    a = 0\n",
    "    b = 1\n",
    "    for i in range(1, num):\n",
    "        c = a + b\n",
    "        a = b\n",
    "        b = c\n",
    "    return c"
   ]
  },
  {
   "cell_type": "code",
   "execution_count": 20,
   "id": "clean-guide",
   "metadata": {
    "slideshow": {
     "slide_type": "subslide"
    }
   },
   "outputs": [
    {
     "name": "stdout",
     "output_type": "stream",
     "text": [
      "fib_recursion(5000) = :( maximum recursion depth exceeded in comparison\n",
      "fib_tail_recursion(5000) = :( maximum recursion depth exceeded in comparison\n",
      "fib_circle(5000) = 3878968454388325633701916308325905312082127714646245106160597214895550139044037097010822916462210669479293452858882973813483102008954982940361430156911478938364216563944106910214505634133706558656238254656700712525929903854933813928836378347518908762970712033337052923107693008518093849801803847813996748881765554653788291644268912980384613778969021502293082475666346224923071883324803280375039130352903304505842701147635242270210934637699104006714174883298422891491273104054328753298044273676822977244987749874555691907703880637046832794811358973739993110106219308149018570815397854379195305617510761053075688783766033667355445258844886241619210553457493675897849027988234351023599844663934853256411952221859563060475364645470760330902420806382584929156452876291575759142343809142302917491088984155209854432486594079793571316841692868039545309545388698114665082066862897420639323438488465240988742395873801976993820317174208932265468879364002630797780058759129671389634214252579116872755600360311370547754724604639987588046985178408674382863125\n"
     ]
    }
   ],
   "source": [
    "i = 5000\n",
    "for fn in [fib_recursion, fib_tail_recursion, fib_circle]:\n",
    "    try:\n",
    "        result = fn(i)\n",
    "        print(f\"{fn.__name__}({i}) = {result}\")\n",
    "    except RecursionError as e:\n",
    "        print(f\"{fn.__name__}({i}) = :( {e}\")"
   ]
  },
  {
   "cell_type": "code",
   "execution_count": 21,
   "id": "joint-television",
   "metadata": {
    "slideshow": {
     "slide_type": "subslide"
    }
   },
   "outputs": [
    {
     "name": "stdout",
     "output_type": "stream",
     "text": [
      "2021-03-25 15:57:38.554101\n",
      "2021-03-25 14:57:38.554163\n",
      "2021-03-25 14:57:38.554215+00:00\n"
     ]
    }
   ],
   "source": [
    "# Datetime: Aware and Naive Objects :(\n",
    "\n",
    "from datetime import datetime, timezone\n",
    "\n",
    "\n",
    "print(datetime.now())\n",
    "print(datetime.utcnow()) # <- No timezone info here\n",
    "\n",
    "print(datetime.utcnow().replace(tzinfo=timezone.utc))\n"
   ]
  },
  {
   "cell_type": "code",
   "execution_count": 22,
   "id": "saving-israeli",
   "metadata": {
    "slideshow": {
     "slide_type": "subslide"
    }
   },
   "outputs": [
    {
     "name": "stdout",
     "output_type": "stream",
     "text": [
      "What a foo\n",
      "What a foo\n"
     ]
    },
    {
     "ename": "TypeError",
     "evalue": "method_c() takes 0 positional arguments but 1 was given",
     "output_type": "error",
     "traceback": [
      "\u001b[0;31m---------------------------------------------------------------------------\u001b[0m",
      "\u001b[0;31mTypeError\u001b[0m                                 Traceback (most recent call last)",
      "\u001b[0;32m<ipython-input-22-378394276ef3>\u001b[0m in \u001b[0;36m<module>\u001b[0;34m\u001b[0m\n\u001b[1;32m     17\u001b[0m \u001b[0ma\u001b[0m\u001b[0;34m.\u001b[0m\u001b[0mmethod_a\u001b[0m\u001b[0;34m(\u001b[0m\u001b[0;34m)\u001b[0m\u001b[0;34m\u001b[0m\u001b[0;34m\u001b[0m\u001b[0m\n\u001b[1;32m     18\u001b[0m \u001b[0ma\u001b[0m\u001b[0;34m.\u001b[0m\u001b[0mmethod_b\u001b[0m\u001b[0;34m(\u001b[0m\u001b[0;34m)\u001b[0m\u001b[0;34m\u001b[0m\u001b[0;34m\u001b[0m\u001b[0m\n\u001b[0;32m---> 19\u001b[0;31m \u001b[0ma\u001b[0m\u001b[0;34m.\u001b[0m\u001b[0mmethod_c\u001b[0m\u001b[0;34m(\u001b[0m\u001b[0;34m)\u001b[0m\u001b[0;34m\u001b[0m\u001b[0;34m\u001b[0m\u001b[0m\n\u001b[0m",
      "\u001b[0;31mTypeError\u001b[0m: method_c() takes 0 positional arguments but 1 was given"
     ]
    }
   ],
   "source": [
    "# It's not a big deal, but...\n",
    "\n",
    "class A:\n",
    "    def __init__(self):\n",
    "        self.x = \"foo\"\n",
    "    \n",
    "    def method_a(what):\n",
    "        print(f\"What a {what.x}\")\n",
    "        \n",
    "    def method_b(not_important_how_you_name_this_argument):\n",
    "        print(f\"What a {not_important_how_you_name_this_argument.x}\")\n",
    "        \n",
    "    def method_c():\n",
    "        print(f\"Why we don't have a {self} here by default.\")\n",
    "        \n",
    "a = A()\n",
    "a.method_a()\n",
    "a.method_b()\n",
    "a.method_c()"
   ]
  },
  {
   "cell_type": "markdown",
   "id": "happy-salvation",
   "metadata": {
    "slideshow": {
     "slide_type": "slide"
    }
   },
   "source": [
    "## Libraries and Tools we love at Gitential"
   ]
  },
  {
   "cell_type": "code",
   "execution_count": 23,
   "id": "romantic-exchange",
   "metadata": {
    "slideshow": {
     "slide_type": "subslide"
    }
   },
   "outputs": [],
   "source": [
    "give_these_a_try = [\n",
    "    {\n",
    "        \"name\": \"poetry\",\n",
    "        \"description\": \"PYTHON PACKAGING AND DEPENDENCY MANAGEMENT MADE EASY\",\n",
    "        \"url\": \"https://python-poetry.org/\",\n",
    "    },\n",
    "    {\n",
    "        \"name\": \"pydantic\",\n",
    "        \"description\": \"Data validation and settings management using python type annotations.\",\n",
    "        \"url\": \"https://pydantic-docs.helpmanual.io/\"\n",
    "    },\n",
    "    {\n",
    "        \"name\": \"fastapi\",\n",
    "        \"description\": \"FastAPI is web framework for building APIs with Python 3.6+ \" + \n",
    "                       \"based on standard Python type hints.\",\n",
    "        \"url\": \"https://fastapi.tiangolo.com/\",\n",
    "    },\n",
    "    {\n",
    "        \"name\": \"black\",\n",
    "        \"description\": \"The Uncompromising Code Formatter\",\n",
    "        \"url\": \"https://github.com/psf/black\",\n",
    "        \n",
    "    },\n",
    "\n",
    "]\n",
    "\n",
    "honorable_mentions = [\"pylint\", \"mypy\", \"pandas\", \"numpy\", \"ibis-framework\", \"pytest\"]\n"
   ]
  },
  {
   "cell_type": "markdown",
   "id": "standard-rebel",
   "metadata": {
    "slideshow": {
     "slide_type": "slide"
    }
   },
   "source": [
    "## Thank you!\n",
    "\n",
    "Check out Gitential at https://gitential.com !\n",
    "\n",
    "\n",
    "Slides and codes can be found here: \n",
    "https://github.com/laco/presentations/ \n",
    "\n",
    "(https://github.com/laco/presentations/tree/master/20210325-Ubitalk-Python/ exactly)."
   ]
  },
  {
   "cell_type": "code",
   "execution_count": null,
   "id": "union-labor",
   "metadata": {},
   "outputs": [],
   "source": []
  }
 ],
 "metadata": {
  "celltoolbar": "Slideshow",
  "kernelspec": {
   "display_name": "Python 3",
   "language": "python",
   "name": "python3"
  },
  "language_info": {
   "codemirror_mode": {
    "name": "ipython",
    "version": 3
   },
   "file_extension": ".py",
   "mimetype": "text/x-python",
   "name": "python",
   "nbconvert_exporter": "python",
   "pygments_lexer": "ipython3",
   "version": "3.8.3"
  }
 },
 "nbformat": 4,
 "nbformat_minor": 5
}
